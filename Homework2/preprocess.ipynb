{
 "cells": [
  {
   "cell_type": "code",
   "execution_count": 142,
   "metadata": {},
   "outputs": [],
   "source": [
    "import pandas as pd\n",
    "import numpy as np\n",
    "import warnings\n",
    "warnings.filterwarnings('ignore')\n",
    "df = pd.read_csv('primary_data.csv', sep = ';')\n",
    "all_cols = df.columns\n",
    "chr_cols = [\"family\", \"name\", \"class\"]\n",
    "num_cols = [\"cap-diameter\", \"stem-height\", \"stem-width\"]\n",
    "cat_cols = [col for col in all_cols if col not in (chr_cols + num_cols)]"
   ]
  },
  {
   "cell_type": "code",
   "execution_count": 143,
   "metadata": {},
   "outputs": [
    {
     "name": "stdout",
     "output_type": "stream",
     "text": [
      "[17.5, 15.0, 15.0, 17.5, 15.0, 12.5, 12.5, 12.5, 20.0, 17.5, 3.5, 3.5, 3.5, 4.5, 20.0, 20.0, 25.0, 10.0, 8.0, 7.5, 7.5, 5.0, 3.0, 4.0, 10.0, 11.5, 3.0, 1.5, 1.0, 3.5, 2.0, 2.5, 1.5, 1.0, 5.5, 2.0, 0.75, 1.0, 2.5, 7.5, 5.0, 5.5, 15.0, 25.0, 15.0, 10.0, 7.5, 12.5, 13.0, 30.0, 14.0, 10.0, 17.5, 6.0, 7.5, 5.5, 7.5, 12.5, 6.5, 6.0, 7.5, 15.0, 9.0, 15.0, 15.0, 30.0, 7.5, 6.5, 17.5, 20.0, 15.0, 22.5, 17.5, 12.5, 22.5, 11.5, 25.0, 30.0, 9.0, 12.5, 25.0, 9.0, 6.0, 6.0, 6.0, 15.0, 17.5, 12.5, 10.0, 10.0, 3.0, 4.5, 2.5, 2.5, 17.5, 9.0, 10.0, 3.0, 3.0, 9.0, 11.0, 6.0, 6.0, 7.5, 10.0, 7.5, 2.5, 2.5, 15.0, 20.0, 5.5, 12.5, 7.5, 3.5, 7.5, 8.5, 6.5, 22.5, 1.5, 12.5, 12.5, 17.5, 14.0, 17.5, 12.5, 12.5, 17.5, 4.5, 3.0, 1.5, 2.5, 4.0, 6.5, 2.5, 2.5, 6.0, 8.0, 70.0, 22.5, 12.5, 15.0, 30.0, 27.5, 10.0, 30.0, 11.5, 35.0, 25.0, 15.0, 17.5, 12.5, 15.0, 35.0, 6.5, 14.0, 7.5, 50.0, 15.0, 22.5, 15.0, 0.0, 20.0, 1.5, 0.0, 0.0, 35.0, 40.0, 5.5, 30.0, 15.0, 25.0, 20.0, 5.5]\n"
     ]
    }
   ],
   "source": [
    "for col in num_cols:\n",
    "    clean_list = []\n",
    "    for list_value in df[col].to_numpy():\n",
    "        list_value = list_value.strip('[]').split(',')\n",
    "        list_value = [float(v.strip()) for v in list_value]\n",
    "        # value = (min + max)/2 if has two values \n",
    "        clean_list.append((list_value[0] + list_value[1])/2 if len(list_value)==2 else list_value[0])\n",
    "    df[col] = clean_list\n",
    "print(clean_list)"
   ]
  },
  {
   "cell_type": "code",
   "execution_count": 144,
   "metadata": {},
   "outputs": [],
   "source": [
    "for col in cat_cols:\n",
    "    variable_set = set()\n",
    "    for list_value in df[col].to_numpy():\n",
    "        if pd.isna(list_value):\n",
    "            list_value = []\n",
    "        elif isinstance(list_value, str):\n",
    "            list_value = list_value.strip('[]').split(',')\n",
    "            list_value = [v.strip() for v in list_value]\n",
    "        variable_set.update(list_value)\n",
    "\n",
    "    # Create One-Hot Encoded Columns\n",
    "    for ele in variable_set:\n",
    "        df[f'{col}.{ele}'] = df[col].apply(lambda x: \"T\" if isinstance(x, str) and ele in x else \"F\")\n",
    "\n",
    "    df.drop(columns=[col], inplace=True)\n",
    "\n"
   ]
  },
  {
   "cell_type": "code",
   "execution_count": 145,
   "metadata": {},
   "outputs": [],
   "source": [
    "df.to_csv('cleaned_data.csv', index=False)"
   ]
  }
 ],
 "metadata": {
  "kernelspec": {
   "display_name": "DSenv",
   "language": "python",
   "name": "python3"
  },
  "language_info": {
   "codemirror_mode": {
    "name": "ipython",
    "version": 3
   },
   "file_extension": ".py",
   "mimetype": "text/x-python",
   "name": "python",
   "nbconvert_exporter": "python",
   "pygments_lexer": "ipython3",
   "version": "3.9.12"
  }
 },
 "nbformat": 4,
 "nbformat_minor": 2
}
